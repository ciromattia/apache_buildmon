{
 "cells": [
  {
   "cell_type": "code",
   "execution_count": 26,
   "metadata": {
    "collapsed": false
   },
   "outputs": [
    {
     "name": "stdout",
     "output_type": "stream",
     "text": [
      "<type 'dict'>\n"
     ]
    }
   ],
   "source": [
    "\"\"\" Let's draw a pacman using build data\n",
    "\n",
    "from apache.buids.org for Hadoop-hdfs-trunk.\n",
    "\"\"\"\n",
    "\n",
    "from urllib2 import urlopen\n",
    "import re\n",
    "import collections\n",
    "from matplotlib import pyplot as plt\n",
    "\n",
    "%matplotlib inline\n",
    "\n",
    "pyApi = 'api/python?pretty=true'\n",
    "hadoop_hdfs = 'https://builds.apache.org/job/Hadoop-Hdfs-trunk/'\n",
    "hadoop_projects = collections.OrderedDict()\n",
    "buildPass = collections.OrderedDict()\n",
    "buildFail = collections.OrderedDict()\n",
    "\n",
    "hadoopStats = []\n",
    "buildStatus = []\n",
    "buildColors = []\n",
    "\n",
    "hdfs_builds = eval(urlopen(hadoop_hdfs + pyApi).read())"
   ]
  },
  {
   "cell_type": "code",
   "execution_count": 28,
   "metadata": {
    "collapsed": false
   },
   "outputs": [
    {
     "name": "stdout",
     "output_type": "stream",
     "text": [
      "[{'url': 'https://builds.apache.org/job/Hadoop-Hdfs-trunk/3153/', 'number': 3153}, {'url': 'https://builds.apache.org/job/Hadoop-Hdfs-trunk/3152/', 'number': 3152}, {'url': 'https://builds.apache.org/job/Hadoop-Hdfs-trunk/3151/', 'number': 3151}, {'url': 'https://builds.apache.org/job/Hadoop-Hdfs-trunk/3150/', 'number': 3150}, {'url': 'https://builds.apache.org/job/Hadoop-Hdfs-trunk/3149/', 'number': 3149}, {'url': 'https://builds.apache.org/job/Hadoop-Hdfs-trunk/3148/', 'number': 3148}, {'url': 'https://builds.apache.org/job/Hadoop-Hdfs-trunk/3147/', 'number': 3147}, {'url': 'https://builds.apache.org/job/Hadoop-Hdfs-trunk/3146/', 'number': 3146}, {'url': 'https://builds.apache.org/job/Hadoop-Hdfs-trunk/3145/', 'number': 3145}, {'url': 'https://builds.apache.org/job/Hadoop-Hdfs-trunk/3144/', 'number': 3144}, {'url': 'https://builds.apache.org/job/Hadoop-Hdfs-trunk/3143/', 'number': 3143}, {'url': 'https://builds.apache.org/job/Hadoop-Hdfs-trunk/3142/', 'number': 3142}, {'url': 'https://builds.apache.org/job/Hadoop-Hdfs-trunk/3141/', 'number': 3141}, {'url': 'https://builds.apache.org/job/Hadoop-Hdfs-trunk/3140/', 'number': 3140}, {'url': 'https://builds.apache.org/job/Hadoop-Hdfs-trunk/3139/', 'number': 3139}]\n"
     ]
    }
   ],
   "source": [
    "print hdfs_builds['builds']"
   ]
  },
  {
   "cell_type": "code",
   "execution_count": 30,
   "metadata": {
    "collapsed": false
   },
   "outputs": [
    {
     "name": "stdout",
     "output_type": "stream",
     "text": [
      "Status of build https://builds.apache.org/job/Hadoop-Hdfs-trunk/3153/ is FAILURE\n",
      "Status of build https://builds.apache.org/job/Hadoop-Hdfs-trunk/3152/ is FAILURE\n",
      "Status of build https://builds.apache.org/job/Hadoop-Hdfs-trunk/3151/ is FAILURE\n",
      "Status of build https://builds.apache.org/job/Hadoop-Hdfs-trunk/3150/ is FAILURE\n",
      "Status of build https://builds.apache.org/job/Hadoop-Hdfs-trunk/3149/ is FAILURE\n",
      "Status of build https://builds.apache.org/job/Hadoop-Hdfs-trunk/3148/ is FAILURE\n",
      "Status of build https://builds.apache.org/job/Hadoop-Hdfs-trunk/3147/ is FAILURE\n",
      "Status of build https://builds.apache.org/job/Hadoop-Hdfs-trunk/3146/ is FAILURE\n",
      "Status of build https://builds.apache.org/job/Hadoop-Hdfs-trunk/3145/ is FAILURE\n",
      "Status of build https://builds.apache.org/job/Hadoop-Hdfs-trunk/3144/ is SUCCESS\n",
      "Status of build https://builds.apache.org/job/Hadoop-Hdfs-trunk/3143/ is FAILURE\n",
      "Status of build https://builds.apache.org/job/Hadoop-Hdfs-trunk/3142/ is FAILURE\n",
      "Status of build https://builds.apache.org/job/Hadoop-Hdfs-trunk/3141/ is FAILURE\n",
      "Status of build https://builds.apache.org/job/Hadoop-Hdfs-trunk/3140/ is SUCCESS\n",
      "Status of build https://builds.apache.org/job/Hadoop-Hdfs-trunk/3139/ is SUCCESS\n"
     ]
    }
   ],
   "source": [
    "def getBuildResult(hdfsUri):\n",
    "    \"\"\" Evaluate the values exposed via the Hadoop-hdfs REST endpoints\n",
    "    \n",
    "    and fetch the build status for the specific build job.\n",
    "    \"\"\"\n",
    "    \n",
    "    hdfsApi = eval(urlopen(hdfsUri + pyApi).read())\n",
    "    buildStatus = hdfsApi['result']\n",
    "    \n",
    "    return buildStatus\n",
    "\n",
    "\n",
    "for hdfs_buildinfo in hdfs_builds['builds']:\n",
    "    for hdfsKey, hdfsInfo in hdfs_buildinfo.iteritems():\n",
    "        if \"url\" in hdfsKey:\n",
    "            status = getBuildResult(hdfsInfo)\n",
    "            if status == \"SUCCESS\":\n",
    "                buildPass.update({hdfs_buildinfo.get('number') : status})\n",
    "                print(\"Status of build {0} is {1}\".format(hdfsInfo, status))\n",
    "            if status == \"FAILURE\":\n",
    "                buildFail.update({hdfs_buildinfo.get('number') : status})\n",
    "                print(\"Status of build {0} is {1}\".format(hdfsInfo, status))"
   ]
  },
  {
   "cell_type": "code",
   "execution_count": 37,
   "metadata": {
    "collapsed": false
   },
   "outputs": [
    {
     "data": {
      "image/png": "[encoded data removed]",
      "text/plain": [
       "<matplotlib.figure.Figure at 0x7fbfe18f8110>"
      ]
     },
     "metadata": {},
     "output_type": "display_data"
    }
   ],
   "source": [
    "\"\"\" Plot pacman based on the total number of\n",
    "\n",
    "passed and failed hadoop-hdfs-trunk builds.\n",
    "\"\"\"\n",
    "\n",
    "hadoopStats.append(len(buildPass.keys()))\n",
    "hadoopStats.append(len(buildFail.keys()))\n",
    "buildStatus = ['SUCCESS', 'FAILURE']\n",
    "buildColors = ['g', 'r']\n",
    "\n",
    "plt.pie(hadoopStats,\n",
    "       labels=buildStatus,\n",
    "       colors=buildColors,\n",
    "       startangle=90,\n",
    "       shadow=True,\n",
    "       explode=(0.1,0),\n",
    "       autopct='%1.1f%%')\n",
    "\n",
    "plt.title(\"Continuous Integration Health Monitor -- Hadoop Hdfs Trunk\")\n",
    "plt.show()"
   ]
  },
  {
   "cell_type": "code",
   "execution_count": null,
   "metadata": {
    "collapsed": true
   },
   "outputs": [],
   "source": []
  }
 ],
 "metadata": {
  "kernelspec": {
   "display_name": "Python 2",
   "language": "python",
   "name": "python2"
  },
  "language_info": {
   "codemirror_mode": {
    "name": "ipython",
    "version": 2
   },
   "file_extension": ".py",
   "mimetype": "text/x-python",
   "name": "python",
   "nbconvert_exporter": "python",
   "pygments_lexer": "ipython2",
   "version": "2.7.11"
  }
 },
 "nbformat": 4,
 "nbformat_minor": 0
}
