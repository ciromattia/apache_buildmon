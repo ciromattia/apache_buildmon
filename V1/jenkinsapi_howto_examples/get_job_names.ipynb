{
 "cells": [
  {
   "cell_type": "code",
   "execution_count": 30,
   "metadata": {
    "collapsed": false
   },
   "outputs": [
    {
     "name": "stdout",
     "output_type": "stream",
     "text": [
      "Abdera-trunk\n",
      "Abdera2-trunk\n"
     ]
    }
   ],
   "source": [
    "\"\"\"\n",
    "An example to show howto retrieve job names and \n",
    "details about individual jobs using Jenkinsapi.\n",
    "\"\"\"\n",
    "\n",
    "from jenkinsapi import api\n",
    "\n",
    "jenJob = api.Jenkins('https://builds.apache.org/api/python')\n",
    "jobName_1 = jenJob.keys()[0]\n",
    "jobName_2 = jenJob.keys()[1]\n",
    "\n",
    "print(jobName_1)\n",
    "print(jobName_2)"
   ]
  },
  {
   "cell_type": "markdown",
   "metadata": {},
   "source": [
    "#### Quick notes on section 1:\n",
    "**** ====== ****\n",
    "##### Individual names are printed like:\n",
    "call_to_api_method.keys()[jobindex]"
   ]
  },
  {
   "cell_type": "code",
   "execution_count": 7,
   "metadata": {
    "collapsed": false
   },
   "outputs": [
    {
     "name": "stdout",
     "output_type": "stream",
     "text": [
      "Help on Jobs in module jenkinsapi.jobs object:\n",
      "\n",
      "class Jobs(__builtin__.object)\n",
      " |  This class provides a container-like API which gives\n",
      " |  access to all jobs defined on the Jenkins server. It behaves\n",
      " |  like a dict in which keys are Job-names and values are actual\n",
      " |  jenkinsapi.Job objects.\n",
      " |  \n",
      " |  Methods defined here:\n",
      " |  \n",
      " |  __contains__(self, job_name)\n",
      " |      True if job_name is the name of a defined job\n",
      " |  \n",
      " |  __delitem__(self, job_name)\n",
      " |      Delete a job by name\n",
      " |      :param job_name: name of a exist job, str\n",
      " |  \n",
      " |  __getitem__(self, job_name)\n",
      " |  \n",
      " |  __init__(self, jenkins)\n",
      " |  \n",
      " |  __len__(self)\n",
      " |  \n",
      " |  __setitem__(self, key, value)\n",
      " |  \n",
      " |  build(self, job_name, params)\n",
      " |  \n",
      " |  copy(self, job_name, new_job_name)\n",
      " |      Copy a job\n",
      " |      :param job_name: name of a exist job, str\n",
      " |      :param new_job_name: name of new job, str\n",
      " |      :return: new Job obj\n",
      " |  \n",
      " |  create(self, job_name, config)\n",
      " |      Create a job\n",
      " |      :param jobname: name of new job, str\n",
      " |      :param config: configuration of new job, xml\n",
      " |      :return: new Job obj\n",
      " |  \n",
      " |  iteritems(self)\n",
      " |      Get the names & objects for all jobs\n",
      " |  \n",
      " |  iterkeys(self)\n",
      " |      Get the names of all available views\n",
      " |  \n",
      " |  keys(self)\n",
      " |      Return a list of the names of all jobs\n",
      " |  \n",
      " |  rename(self, job_name, new_job_name)\n",
      " |      Rename a job\n",
      " |      :param job_name: name of a exist job, str\n",
      " |      :param new_job_name: name of new job, str\n",
      " |      :return: new Job obj\n",
      " |  \n",
      " |  ----------------------------------------------------------------------\n",
      " |  Data descriptors defined here:\n",
      " |  \n",
      " |  __dict__\n",
      " |      dictionary for instance variables (if defined)\n",
      " |  \n",
      " |  __weakref__\n",
      " |      list of weak references to the object (if defined)\n",
      "\n"
     ]
    }
   ],
   "source": [
    "help(jenJob.jobs)"
   ]
  },
  {
   "cell_type": "code",
   "execution_count": 8,
   "metadata": {
    "collapsed": false
   },
   "outputs": [
    {
     "name": "stdout",
     "output_type": "stream",
     "text": [
      "Help on method keys in module jenkinsapi.jobs:\n",
      "\n",
      "keys(self) method of jenkinsapi.jobs.Jobs instance\n",
      "    Return a list of the names of all jobs\n",
      "\n"
     ]
    }
   ],
   "source": [
    "help(jenJob.jobs.keys)"
   ]
  },
  {
   "cell_type": "code",
   "execution_count": 33,
   "metadata": {
    "collapsed": false
   },
   "outputs": [
    {
     "name": "stdout",
     "output_type": "stream",
     "text": [
      "We will be evaluating build details of these projects hosted at Apache software foundation.\n",
      "['Abdera-trunk', 'Abdera2-trunk', 'Accumulo-1.6', 'Accumulo-1.7', 'Accumulo-1.8', 'Accumulo-Master', 'Accumulo-Pull-Requests', 'ACE-trunk', 'ActiveMQ Protocol Buffer', 'ActiveMQ-Apollo', 'ActiveMQ-Apollo-Deploy', 'ActiveMQ-Artemis-Deploy', 'ActiveMQ-Artemis-Master', 'ActiveMQ-Artemis-Nightly-Regression-Test', 'ActiveMQ-Artemis-PR-Build', 'ActiveMQ-Java7', 'ActiveMQ-Java7-All-UnitTests', 'ActiveMQ-Java8', 'ActiveMQ-LevelDB-Store', 'ActiveMQ-openwire', 'ActiveMQ-PR-Build', 'ActiveMQ-SysTest-Trunk', 'ActiveMQ-Trunk-Deploy', 'Airavata', 'Allura', 'Allura-rat', 'Ambari-branch-1.7.0', 'Ambari-branch-1.7.0-docker', 'Ambari-branch-2.0.0', 'Ambari-branch-2.1', 'Ambari-branch-2.2', 'Ambari-trunk-Commit', 'Ambari-trunk-Commit-debug', 'Ambari-trunk-Commit-docker', 'Ambari-trunk-find-patches-available', 'Ambari-trunk-test-patch', 'Ambari-view', 'Ant-Build-Matrix-1.9.x', 'Ant-Build-Matrix-master', 'ant-on-openjdk8', 'Ant_BuildFromPOMs', 'Ant_Nightly', 'AntLib-antunit', 'AntLib-common', 'AntLib-compress', 'AntLib-props', 'AntLib-svn', 'Any23-trunk', 'Apache Jackrabbit Oak Documentation', 'Apache Jackrabbit Oak matrix', 'apache-atlas-nightly', 'apache-deltacloud-core', 'Apache-falcon', 'Apache-Falcon-Distributed-Assembly', 'apache-falcon-nightly', 'apache-falcon-nightly-hadoop-2', 'apache-falcon-patch-build', 'Apache-Falcon-Pull-Request-Build', 'archiva-1.3.x', 'archiva-all-maven-3.x-with-web-it-js-windows', 'archiva-master-build', 'archiva-master-build-pr-builder', 'archiva-master-empty-repo', 'archiva-master-jdk-1.8', 'archiva-master-web-it-js', 'archiva-parent', 'archivW', 'Aries-Async-Deploy', 'Aries-Blueprint-JDK7', 'Aries-Deploy', 'Aries-JPA-Trunk-JDK7', 'Aries-JPA-Trunk-JDK7-Deploy', 'Aries-rsa master', 'Aries-rsa master deploy', 'Aries-Transaction-Trunk-JDK7', 'Aries-Trunk-JDK17', 'Aries-Tx-Control-Deploy', 'Aries-Tx-Control-Trunk-JDK8', 'AriesWithSnapshotDependencies', 'ASF Parent Pom', 'AsyncWeb', 'Aurora', 'aurora-packaging-nightly', 'AuroraBot', 'AVRO-python', 'AvroJava', 'AWF', 'axiom-1.2.x', 'axiom-experimental', 'axiom-trunk', 'axis-trunk', 'Axis2', 'axis2-1.6', 'axis2-1.7', 'batchee', 'beam_PostCommit_MavenVerify', 'beam_PostCommit_MavenVerify_NEW', 'beam_PostCommit_RunnableOnService_GoogleCloudDataflow', 'beam_PreCommit_MavenVerify', 'beam_PreCommit_RunnableOnService_GoogleCloudDataflow', 'beam_Release_NightlySnapshot', 'beam_Release_Prepare', 'beam_testing', 'Bigtop-Patch-Evaluate', 'Bigtop-tickle-slaves', 'Bigtop-trunk', 'Bigtop-trunk-iTest', 'Bigtop-trunk-test-execution', 'Bigtop-trunk-testartifacts', 'Blur-master-jdk8', 'bookkeeper-debug', 'bookkeeper-master', 'bookkeeper-master-find-patches-available', 'bookkeeper-master-git-pullrequest', 'bookkeeper-trunk-precommit-build', 'brooklyn-client-master', 'brooklyn-client-pull-requests', 'brooklyn-dist-master', 'brooklyn-dist-pull-requests', 'brooklyn-library-master', 'brooklyn-library-pull-requests', 'brooklyn-master-build', 'brooklyn-master-integration', 'brooklyn-master-windows', 'brooklyn-server-master', 'brooklyn-server-pull-requests', 'brooklyn-ui-master', 'brooklyn-ui-pull-requests', 'build-incubator-atlas', 'Buildr-ci-build-jruby-win32', 'BVal-trunk', 'BVal-trunk-linux-tck-deploy', 'Cactus', 'Calcite-Avatica-Master-JDK-1.7', 'Calcite-Avatica-Master-JDK-1.8', 'Calcite-Avatica-Test-JDK-1.7', 'Calcite-Master-JDK-1.7', 'Calcite-Master-JDK-1.8', 'Camel.2.15.x.fulltest', 'Camel.2.15.x.notest', 'Camel.2.16.x.fulltest', 'Camel.2.16.x.notest', 'Camel.2.17.x.fulltest', 'Camel.2.17.x.notest', 'Camel.trunk.fulltest.java8', 'Camel.trunk.itest.karaf', 'Camel.trunk.itest.osgi', 'Camel.trunk.notest', 'Cayenne pull requests', 'cayenne-30', 'cayenne-31', 'cayenne-master', 'central-indexer-test', 'Chemistry - DotCMIS', 'Chemistry - OpenCMIS - install - Java 6', 'Chemistry - OpenCMIS - install - Java 7', 'Chemistry - OpenCMIS - install - Java 8', 'Chemistry - OpenCMIS - javadoc', 'Chemistry - OpenCMIS - Release Profile', 'Chemistry - OpenCMIS - Workbench', 'Chemistry-Phyton-cmislib-doc', 'Chukwa-master', 'clerezza', 'clerezza-rdf-core', 'clerezza-scala-1.6', 'clerezza-site', 'climate_master_build', 'cloudstack-apidocs-master', 'cloudstack-marvin', 'cloudstack-master-maven', 'cloudstack-pr-analysis', 'cloudstack-rat-master', 'cloudstack-simulator-master', 'cloudstack-simulator-singlerun', 'Cocoon 2.1.X', 'Cocoon 2.2', 'Cocoon 3.0', 'CODI (add-ons)', 'CODI (deploy)', 'CODI (nightly)', 'CODI (nightly) -j ava8arm', 'codi-apache-extras', 'codi-apache-extras-addons', 'codi-apache-extras-test', 'codi-mirror', 'CODI-test', 'CODI-u1test', 'Commons Math DeveloperBranch', 'Commons Math MasterBranch', 'Commons Test - do not use', 'Commons-Codec', 'commons-collections', 'Commons-Compress', 'Commons-Compress-Windows', 'Commons-configuration', 'Commons-CRYPTO-JDK1.6', 'Commons-CRYPTO-JDK1.7', 'Commons-CRYPTO-JDK1.8', 'commons-csv', 'Commons-FileUpload', 'commons-jcs', 'Commons-Lang', 'Commons-ognl', 'commons-vfs-trunk', 'CommonsAdHoc', 'CommonsAnt', 'cordova-nightly', 'cordova-nightly-test', 'core-integration-testing-maven-3', 'core-integration-testing-maven-3-embedded', 'core-integration-testing-maven-3-jdk-1.6-windows', 'core-integration-testing-maven-3-jdk-1.7', 'core-integration-testing-maven-3-jdk-1.8', 'core-integration-testing-maven-3-osx', 'core-integration-testing-maven-3-solaris', 'core-it-maven-3-win', 'CouchDB', 'Creadur-Rat', 'Creadur-Rat-Latest-Jdk', 'Creadur-Rat-ParentPom', 'Creadur-Rat-Site', 'Creadur-Rat-Site-Latest-Jdk', 'Creadur-Tentacles', 'Creadur-Tentacles-Site', 'Creadur-Whisker', 'Creadur-Whisker-Latest-Jdk', 'Creadur-Whisker-ParentPom', 'Creadur-Whisker-Site', 'Creadur-Whisker-Site-Latest-Jdk', 'crunch-commit', 'crunch-integration', 'crunch-master', 'ctakes-trunk-compiletest', 'ctakes-trunk-package', 'Curator', 'Curator-3.0', 'CXF-2.7-deploy', 'CXF-2.7.x', 'CXF-3.0-deploy', 'CXF-3.0.x', 'CXF-3.1-deploy', 'CXF-3.1.x', 'CXF-build-tools', 'CXF-DOSGi', 'CXF-DOSGi-deploy', 'CXF-Fediz', 'CXF-Fediz-1.2.x-fixes', 'CXF-Fediz-openjdk17', 'CXF-trunk-deploy', 'CXF-Trunk-JDK18', 'CXF-Trunk-PR', 'CXF-trunk-windows', 'CXF-xjc-utils', 'DeltaSpike Deploy', 'DeltaSpike Examples', 'DeltaSpike for CDI 1.0', 'DeltaSpike for CDI 1.1 and 1.2', 'DeltaSpike for CDI 2.0', 'DeltaSpike for Java EE', 'DeltaSpike OWB (nightly)', 'DeltaSpike OWB 1.1.1', 'DeltaSpike OWB 1.1.2', 'DeltaSpike OWB 1.1.3', 'DeltaSpike OWB 1.1.4', 'DeltaSpike OWB 1.1.5', 'DeltaSpike OWB 1.1.6', 'DeltaSpike OWB 1.1.6 (JDK 1.7)', 'DeltaSpike OWB 1.1.7', 'DeltaSpike OWB 1.1.8', 'Deltaspike OWB 1.1.9-SNAPSHOT', 'DeltaSpike OWB 1.2.0', 'DeltaSpike OWB 1.2.1', 'DeltaSpike OWB 1.2.1 java8_ARM', 'DeltaSpike OWB 1.2.2', 'DeltaSpike OWB 1.2.3', 'DeltaSpike OWB 1.2.4', 'DeltaSpike OWB 1.2.5', 'DeltaSpike OWB 1.2.6', 'DeltaSpike OWB 1.2.7', 'DeltaSpike OWB 1.6.0', 'DeltaSpike OWB 1.6.1', 'DeltaSpike OWB 1.6.2', 'DeltaSpike OWB JDK8', 'DeltaSpike OWB OpenJDK8', 'DeltaSpike RAT-Check', 'DeltaSpike Weld (nightly)', 'DeltaSpike Weld 1.1.10', 'DeltaSpike Weld 1.1.11', 'DeltaSpike Weld 1.1.12', 'DeltaSpike Weld 1.1.13', 'DeltaSpike Weld 1.1.14', 'DeltaSpike Weld 1.1.15', 'DeltaSpike Weld 1.1.16', 'DeltaSpike Weld 1.1.17', 'DeltaSpike Weld 1.1.18', 'DeltaSpike Weld 1.1.19', 'DeltaSpike Weld 1.1.19 (JDK 1.7)', 'DeltaSpike Weld 1.1.20', 'DeltaSpike Weld 1.1.21', 'DeltaSpike Weld 1.1.22', 'DeltaSpike Weld 1.1.23', 'DeltaSpike Weld 1.1.24', 'DeltaSpike Weld 1.1.25', 'DeltaSpike Weld 1.1.26', 'DeltaSpike Weld 1.1.27', 'DeltaSpike Weld 1.1.28', 'DeltaSpike Weld 1.1.29', 'DeltaSpike Weld 1.1.3', 'DeltaSpike Weld 1.1.3.SP1', 'DeltaSpike Weld 1.1.30', 'DeltaSpike Weld 1.1.31', 'DeltaSpike Weld 1.1.32', 'DeltaSpike Weld 1.1.33', 'DeltaSpike Weld 1.1.4', 'DeltaSpike Weld 1.1.5', 'DeltaSpike Weld 1.1.5.AS71', 'DeltaSpike Weld 1.1.6', 'DeltaSpike Weld 1.1.7', 'DeltaSpike Weld 1.1.8', 'DeltaSpike Weld 1.1.9', 'DeltaSpike Weld 2.0.0', 'DeltaSpike Weld 2.0.0.SP1', 'DeltaSpike Weld 2.0.1', 'DeltaSpike Weld 2.0.2', 'DeltaSpike Weld 2.0.3', 'DeltaSpike Weld 2.0.4', 'DeltaSpike Weld 2.0.5', 'DeltaSpike Weld 2.1.0', 'DeltaSpike Weld 2.1.1', 'DeltaSpike Weld 2.1.2', 'DeltaSpike Weld 2.2.0', 'DeltaSpike Weld 2.2.1', 'DeltaSpike Weld 2.2.10', 'DeltaSpike Weld 2.2.10.SP1', 'DeltaSpike Weld 2.2.11', 'DeltaSpike Weld 2.2.12', 'DeltaSpike Weld 2.2.13', 'DeltaSpike Weld 2.2.14', 'DeltaSpike Weld 2.2.15', 'DeltaSpike Weld 2.2.16', 'DeltaSpike Weld 2.2.16.SP1', 'DeltaSpike Weld 2.2.2', 'DeltaSpike Weld 2.2.3', 'DeltaSpike Weld 2.2.4', 'DeltaSpike Weld 2.2.5', 'DeltaSpike Weld 2.2.6', 'DeltaSpike Weld 2.2.7', 'DeltaSpike Weld 2.2.8', 'DeltaSpike Weld 2.2.9', 'DeltaSpike Weld 2.3.0', 'DeltaSpike Weld 2.3.1', 'DeltaSpike Weld 2.3.2', 'DeltaSpike Weld 2.3.3', 'DeltaSpike Weld 2.3.4', 'DeltaSpike Weld 3.0.0 Alpha 14', 'DeltaSpike_AS7', 'DeltaSpike_GF3', 'DeltaSpike_GF4', 'DeltaSpike_GF4.1', 'DeltaSpike_GF4.1.1', 'DeltaSpike_TomEE', 'DeltaSpike_TomEE-SNAPSHOT', 'DeltaSpike_TomEE_1.6.0', 'DeltaSpike_TomEE_1.7.0', 'DeltaSpike_TomEE_1.7.1', 'DeltaSpike_TomEE_1.7.2', 'DeltaSpike_TomEE_1.7.3', 'DeltaSpike_TomEE_7.0.0-M3', 'DeltaSpike_Wildfly', 'DeltaSpike_Wildfly_10', 'DeltaSpike_Wildfly_8.1', 'DeltaSpike_Wildfly_8.2', 'DeltaSpike_Wildfly_8.2.1', 'DeltaSpike_Wildfly_9.0', 'DeltaSpike_Wildfly_9.0.1', 'DeltaSpike_Wildfly_9.0.2', 'Derby-10.10-derbyall', 'Derby-10.10-suites.All', 'Derby-10.11-derbyall', 'Derby-10.11-suites.All', 'Derby-10.12-suites.All', 'Derby-10.9-derbyall', 'Derby-10.9-suites.All', 'Derby-branch-10.10', 'Derby-branch-10.11', 'Derby-branch-10.12', 'Derby-branch-10.5', 'Derby-branch-10.6', 'Derby-branch-10.7', 'Derby-branch-10.8', 'Derby-branch-10.9', 'Derby-docs', 'Derby-JaCoCo', 'Derby-trunk', 'Derby-trunk-JaCoCo', 'Derby-trunk-suites.All', 'Derby-trunk-suites.All-ARM', 'devicemap-browsermap', 'devicemap-data-1.0', 'devicemap-java-client-1.0', 'dir-apacheds-docker-installers', 'dir-apacheds-jdbm-ubuntu-deploy', 'dir-apacheds-jdbm-win', 'dir-apacheds-ubuntu-deploy', 'dir-apacheds-win', 'dir-checkstyle-deploy', 'dir-fortress-core-docker-test', 'dir-groovyldap-deploy', 'dir-junit-addons-deploy', 'dir-kerby', 'dir-kerby-openjdk', 'dir-mavibot-ubuntu-deploy', 'dir-mavibot-win', 'dir-project-deploy', 'dir-shared-ubuntu-deploy', 'dir-shared-win', 'dir-skins-deploy', 'dir-studio', 'dir-studio-ui-tests', 'dist-tool-plugin', 'doxia', 'doxia-all', 'doxia-eclipse-editor', 'doxia-sitetools', 'doxia-tools', 'Drill - Prototype - build', 'Drill-Physical-Plan', 'drill-scm', 'EasyAnt', 'Empire-db multios', 'Empire-db reports', 'Empire-db snapshot', 'Environment check', 'ESME', 'etch-trunk-linux-x86', 'etch-trunk-linux-x86-experimental', 'etch-trunk-windows-x86', 'etch-trunk-windows-x86-experimental', 'ExtVal for JSF 1.2 (deploy)', 'ExtVal for JSF 1.2 (nightly)', 'ExtVal for JSF 2.0 (deploy)', 'ExtVal for JSF 2.0 (nightly)', 'Felix iPOJO API', 'Felix iPOJO Arch', 'Felix iPOJO Arch-Gogo', 'Felix iPOJO EventAdmin Handler', 'Felix iPOJO Extender Handler', 'Felix iPOJO JMX Handler', 'Felix iPOJO Junit4OSGi', 'Felix iPOJO Manipulator', 'Felix iPOJO Metadata', 'Felix iPOJO Runtime', 'Felix iPOJO Temporal Handler', 'Felix iPOJO Tests', 'Felix iPOJO Transaction Handler', 'Felix iPOJO Webconsole', 'Felix iPOJO Whiteboard Handler', 'Felix-FileInstall', 'Felix-Gogo', 'Felix-WebConsole', 'flex-asjs', 'flex-asjs (maven)', 'flex-blazeds', 'flex-falcon', 'flex-falcon (maven)', 'flex-flexunit', 'flex-pmd', 'flex-productdashboard', 'flex-sdk', 'flex-sdk-converter', 'flex-sdk_pixelbender', 'flex-sdk_release', 'flex-tlf', 'flex-tool-api', 'flink-ci', 'flink-snapshot-deployment', 'flume-0.9', 'flume-1.3.0', 'flume-1.4.0', 'Flume-1.6-HBase-98', 'flume-trunk', 'Flume-trunk-hbase-1', 'FontBox-trunk', 'ftpserver-1.0.x-jdk1.5-solaris', 'ftpserver-1.0.x-jdk1.5-ubuntu', 'ftpserver-trunk-jdk1.5-ibm-ubuntu', 'ftpserver-trunk-jdk1.5-solaris', 'ftpserver-trunk-jdk1.5-ubuntu', 'ftpserver-trunk-jdk1.6-freebsd', 'ftpserver-trunk-jdk1.6-ibm-ubuntu', 'ftpserver-trunk-jdk1.6-osx', 'ftpserver-trunk-jdk1.6-solaris', 'ftpserver-trunk-jdk1.6-ubuntu', 'ftpserver-trunk-jdk1.6-windows', 'gcc-test-vinod', 'Geode-nightly', 'Geode-nightly-copy', 'Geode-release', 'Geode-spark-connector', 'Geode-trunk-test-patch', 'Geronimo Spec JMS 2.0', 'Geronimo-Specs-trunk', 'Giraph-1.1', 'Giraph-1.1.0-old', 'Giraph-trunk-Commit', 'Giraph-trunk-default-deploy', 'giraph-trunk-hadoop-0.20.203', 'giraph-trunk-hadoop-0.23', 'giraph-trunk-hadoop-1.0', 'giraph-trunk-hadoop-trunk', 'Giraph-trunk-hadoop2-deploy', 'giraph-trunk-non-secure', 'Giraph-trunk-site', 'gora-trunk', 'Groovy Github PRs', 'Groovy Pull Requests Matrix Job', 'Groovy Ubuntu', 'Groovy Windows', 'Hadoop-ATS-v2', 'Hadoop-branch2', 'Hadoop-branch2-parameterized', 'Hadoop-Common-2-Build', 'Hadoop-Common-2-Commit', 'Hadoop-Common-trunk', 'Hadoop-common-trunk-Java8', 'Hadoop-Common-trunk-win', 'Hadoop-fs-encryption-nightly', 'Hadoop-Hdfs-7966', 'Hadoop-HDFS-8833', 'Hadoop-HDFS-8909', 'Hadoop-Hdfs-HAbranch-build', 'Hadoop-Hdfs-NIFbranch-build', 'Hadoop-Hdfs-trunk', 'Hadoop-Hdfs-trunk-Commit', 'Hadoop-Hdfs-trunk-Java8', 'Hadoop-Hdfs-trunk-win', 'Hadoop-integration-tests', 'Hadoop-Mapreduce-trunk', 'Hadoop-Mapreduce-trunk-Commit', 'Hadoop-Mapreduce-trunk-Java8', 'Hadoop-Mapreduce-trunk-win', 'hadoop-qbt', 'hadoop-qbt-test', 'Hadoop-trunk', 'Hadoop-trunk-ARM', 'Hadoop-trunk-Commit', 'hadoop-trunk-osx-java8', 'hadoop-trunk-solaris-java8', 'hadoop-trunk-win-java8', 'hadoop-win1', 'Hadoop-Yarn-trunk', 'Hadoop-Yarn-trunk-Java8', 'HADOOP2_Release_Artifacts_Builder', 'Hama-Nightly-for-Hadoop-1.x', 'Hama-Nightly-for-Hadoop-2.x', 'Hama-trunk', 'HAWQ Downloads', 'HAWQ SCM Build', 'HAWQ-build-pullrequest', 'HAWQ-libhdfs-nightly', 'HAWQ-libyarn-nightly', 'HAWQ-nightly', 'HBase Website Link Ckecker', 'HBase-0.94', 'HBase-0.94-JDK7', 'HBase-0.94-on-Hadoop-2', 'HBase-0.94-security', 'HBase-0.94.18-security', 'HBase-0.94.28', 'HBase-0.98', 'HBase-0.98-matrix', 'HBase-0.98-on-Hadoop-1.1', 'HBase-1.0', 'HBase-1.1', 'HBase-1.1-JDK7', 'HBase-1.1-JDK8', 'HBase-1.2', 'HBase-1.2 non-matrix', 'HBase-1.2-IT', 'HBase-1.3', 'HBase-1.3-IT', 'HBase-1.4', 'HBase-Find-Flaky-Tests', 'HBase-Flaky-Tests', 'hbase-qbt-test', 'HBase-TRUNK', 'HBase-Trunk-IT', 'HBase-Trunk_matrix', 'hbase_generate_website', 'HDT-hadoop-eclipse-merge', 'helix', 'helix-1.7', 'Hive-0.14', 'Hive-trunk', 'HTrace-Master', 'httpcomponents-asyncclient-4.1.x', 'httpcomponents-asyncclient-trunk', 'httpcomponents-client-4.5.x', 'httpcomponents-client-5.x', 'httpcomponents-core-4.4.x', 'httpcomponents-core-5.x', 'hupa-trunk', 'hupa-trunk-site', 'Ignite-artifacts', 'Ignite-nightly', 'imap-trunk-m2', 'imap-trunk-site', 'incubator-brooklyn-master-build', 'incubator-brooklyn-master-integration', 'incubator-brooklyn-master-windows', 'incubator-brooklyn-pull-requests', 'incubator-commonsrdf', 'incubator-eagle-main', 'incubator-eagle-pr-reviewer', 'incubator-eagle-test', 'incubator-rya-develop', 'incubator-taverna-commandline', 'incubator-taverna-commandline-nightly', 'incubator-taverna-common-activities', 'incubator-taverna-engine', 'incubator-taverna-language', 'incubator-taverna-language-pull-requests', 'incubator-taverna-maven-parent', 'incubator-taverna-osgi', 'incubator-taverna-plugin-bioinformatics', 'incubator-taverna-plugin-component', 'incubator-taverna-server', 'incubator-taverna-workbench', 'incubator-taverna-workbench-common-activities', 'incubator-taverna-workbench-product', 'isis-core-ubuntu', 'Ivy', 'Ivy-check', 'Ivy-tests', 'IvyDE', 'IvyDE-updatesite', 'Jackrabbit Oak trunk with JR SNAPSHOT', 'Jackrabbit-2.2', 'Jackrabbit-trunk', 'Jakarta_BSF3', 'james-mailet', 'james-project', 'james-server-trunk', 'james-server-trunk-site', 'james-server-v2.3', 'james-server-v2.3-m2', 'james-skin', 'jclouds-labs-google-pull-request-test', 'jdkim-trunk', 'jdkim-trunk-site', 'Jena_Development_Deploy', 'Jena_Development_Test', 'Jena_Development_Test_Windows', 'Jena_Jena2 Development Test', 'Jena_jena2_branch_deploy', 'JMeter adhoc', 'JMeter-trunk', 'johnzon', 'johnzon-multi', 'joshua_master', 'joshua_maven', 'jsieve-trunk', 'jsieve-trunk-site', 'jsirois-unlock-AuroraBot', 'jsirois_debug_Thrift-precommit', 'jspf-trunk', 'jspf-trunk-site', 'JSPWiki', 'kafka-0.10.0-jdk7', 'Kafka-0.7', 'Kafka-0.8', 'Kafka-consumer_redesign', 'kafka-trunk-git-pr-jdk7', 'kafka-trunk-jdk7', 'kafka-trunk-jdk8', 'kafka_0.9.0_jdk7', 'KafkaPreCommit', 'karaf-3.0.x', 'karaf-4.0.x', 'karaf-decanter-master', 'karaf-master', 'karaf-pr', 'Karaf-WebConsole', 'kato.api-head', 'Ki', 'kill-orphaned-java-single-node', 'Knox-0.2.0', 'Knox-0.3.0', 'Knox-0.3.1', 'Knox-0.4.0', 'Knox-0.5.0', 'Knox-0.5.1', 'Knox-0.6.0', 'Knox-0.7.0', 'Knox-0.8.0', 'Knox-0.9.0', 'Knox-master-685', 'Knox-master-daily', 'Knox-master-patch-scan', 'Knox-master-patch-verify', 'Knox-master-release', 'Knox-master-verify', 'Lens-Commit', 'Lens-Commit-Java8', 'Lens-current-release-line', 'log4cxx-ubuntu14.04', 'Log4j 2.x', 'log4net-trunk-build', 'Lucene-Artifacts-5.5', 'Lucene-Artifacts-6.0', 'Lucene-Artifacts-6.x', 'Lucene-Artifacts-master', 'Lucene-Solr-Clover-6.x', 'Lucene-Solr-Clover-master', 'Lucene-Solr-Maven-5.5', 'Lucene-Solr-Maven-6.0', 'Lucene-Solr-Maven-6.x', 'Lucene-Solr-Maven-master', 'Lucene-Solr-NightlyTests-5.5', 'Lucene-Solr-NightlyTests-6.0', 'Lucene-Solr-NightlyTests-6.x', 'Lucene-Solr-NightlyTests-master', 'Lucene-Solr-SmokeRelease-5.5', 'Lucene-Solr-SmokeRelease-6.0', 'Lucene-Solr-SmokeRelease-6.x', 'Lucene-Solr-SmokeRelease-master', 'Lucene-Solr-Tests-5.5-Java7', 'Lucene-Solr-Tests-5.5-Java8', 'Lucene-Solr-Tests-6.0', 'Lucene-Solr-Tests-6.x', 'Lucene-Solr-Tests-master', 'Lucene-Tests-MMAP-master', 'Lucene.Net-Trunk-All-Nightly', 'Lucene.Net-Trunk-All-Poll-Changes', 'Lucene.Net-Trunk-Contrib-Nightly', 'Lucene.Net-Trunk-Contrib-Poll-Changes', 'mahout-collections-trunk', 'Mahout-Examples-Classify-20News', 'Mahout-Examples-Cluster-Reuters', 'Mahout-Examples-Cluster-Reuters-II', 'Mahout-h1-Quality', 'mahout-nightly', 'Mahout-Quality', 'Mahout-Trunk', 'MahoutClover', 'mailbox', 'mailbox-integration-tests', 'mailbox-integration-tests-site', 'mailbox-site', 'ManifoldCF-ant', 'ManifoldCF-ant-1x', 'ManifoldCF-mvn', 'ManifoldCF-mvn-1x', 'ManifoldCF-site', 'Marmotta', 'Marmotta-JDK8', 'maven-2.2.x', 'maven-3.0.x', 'maven-3.2-release-status', 'maven-3.2-release-status-build', 'maven-3.2-release-status-test', 'maven-3.3-release-status', 'maven-3.3-release-status-build', 'maven-3.3-release-status-test-linux', 'maven-3.3-release-status-test-windows', 'maven-3.x', 'maven-3.x-site', 'maven-ant-tasks', 'maven-archetype-m2', 'maven-archetype-m3', 'maven-archetypes', 'maven-enforcer', 'maven-enforcer-m3.1.x', 'maven-indexer', 'maven-indexer-5.x', 'maven-jenkins-seeding', 'maven-jxr', 'maven-parent', 'maven-plugin-testing', 'maven-plugin-tools', 'maven-plugin-tools-jdk-1.7', 'maven-plugin-tools-m2', 'maven-plugin-tools-windows', 'maven-plugins', 'maven-plugins-ITs-m3', 'maven-plugins-ITs-m3-windows', 'maven-plugins-ITs-m3.0.4', 'maven-plugins-ITs-m3.0.5-with-maven-plugin', 'maven-plugins-ITs-m3.1.x-with-maven-plugin-jdk-1.8', 'maven-plugins-ITs-m3.1.x-with-maven-plugin-jdk-1.8_windows', 'maven-plugins-ITs-m3.2.1-with-maven-plugin-jdk-1.7', 'maven-plugins-windows', 'maven-project-resources', 'maven-release', 'maven-scm', 'maven-scm-1.7', 'maven-scm-provider-svnjava', 'maven-scm-windows', 'maven-shared', 'maven-shared-windows', 'maven-skins', 'maven-surefire', 'maven-surefire-mvn-2.2.1', 'maven-surefire-windows', 'maven-wagon', 'maven-wagon-1.7', 'maven-wagon-benchmarks', 'maven-wagon-windows', 'maven-wagon-with-ssh-embedded', 'Mesos', 'Mesos-Benchmarks', 'Mesos-CMake-Test', 'Mesos-OSX', 'Mesos-Release', 'mesos-reviewbot', 'Mesos-test', 'mime4j-trunk', 'mime4j-trunk-site', 'MINA-1.0.X', 'MINA-1.1.X', 'MINA-2.0.X-jdk1.5-ubuntu', 'MINA-2.0.X-jdk1.5-windows', 'MINA-trunk-jdk1.7-ubuntu', 'MINA-trunk-jdk1.7-windows', 'MINA-trunk-jdk1.8-ubuntu', 'MINA-trunk-jdk1.8-windows', 'mpt-trunk', 'mpt-trunk-site', 'mrql-master-snapshot', 'mrunit-trunk', 'myfaces-commons', 'myfaces-current-2.0', 'myfaces-current-2.0-integration-tests', 'myfaces-current11', 'myfaces-current12', 'myfaces-current21', 'myfaces-current21_949', 'myfaces-current22-1', 'myfaces-ext-scripting', 'myfaces-master-pom', 'myfaces-maven', 'myfaces-maven-achetypes', 'myfaces-maven2-plugins', 'Myfaces-Orchestra', 'myfaces-orchestra-core', 'myfaces-orchestra-core12', 'myfaces-orchestra-core20', 'myfaces-orchestra-maven', 'myfaces-shared', 'myfaces-shared-2.0', 'myfaces-shared-3.0', 'myfaces-site-skin', 'myfaces-test', 'myfaces-tomahawk', 'MyFaces-Trinidad-Plugins2', 'neethi-trunk', 'Nightly', 'NPanday', 'NPanday-dist', 'NPanday-it-runner', 'NPanday-its', 'npanday-plugin-its', 'Nutch-nutchgora', 'Nutch-trunk', 'nuvem', 'Oak RDB derby', 'ODE-1.x', 'ODE-jacob', 'ODE-test', 'ODE-trunk', 'ODE-trunk-jdk6', 'ODE-trunk-m2-jdk5-nightly-deploy', 'ODE-trunk-maven2-jdk5', 'ODFToolkit', 'ODFToolkit-windows', 'olingo-odata2', 'olingo-odata2-android_poc-cobertura', 'olingo-odata2-cobertura', 'olingo-odata2-quality', 'olingo-odata4', 'olingo-odata4-all-profiles', 'olingo-odata4-cobertura', 'Oltu', 'Oltu-OAuth-2.0', 'Oltu-OAuth-2.0-windows', 'Oltu-OpenID-Conect', 'oodt-avro-rpc', 'oodt-coverage', 'oodt-dependency-update', 'oodt-trunk', 'oodt-trunk-Windows', 'oozie-trunk-find-patches-available', 'oozie-trunk-precommit-build', 'oozie-trunk-w-hadoop-1', 'oozie-trunk-w-hadoop-2', 'Open Climate Workbench', 'OpenAz-master', 'OpenEJB_and_TomEE_Build', 'OpenEJB_deploy_patched_module', 'OpenJPA-11x', 'OpenJPA-12x', 'OpenJPA-13x', 'OpenJPA-20x-deploy', 'OpenJPA-21x', 'OpenJPA-21x-deploy', 'OpenJPA-21x-docs', 'OpenJPA-221x', 'OpenJPA-221x-deploy', 'OpenJPA-22x', 'OpenJPA-22x-deploy', 'OpenJPA-EclipsePlugin-trunk', 'OpenJPA-trunk', 'OpenJPA-trunk-deploy', 'openmeetings', 'Openmeetings 3.0.x', 'Openmeetings 3.1.x', 'Openmeetings 3.2.x', 'OpenMeetings ATutor Plugin', 'OpenMeetings Bitrix Plugin', 'OpenMeetings Moodle Plugin', 'OpenMeetings Teambox Plugin', 'OpenMeetings Zimbra Plugin', 'OpenNLP', 'OpenNLP_java8', 'OpenWebBeans-1.1.x-deploy', 'OpenWebBeans-trunk', 'OpenWebBeans-trunk-deploy', 'OpenWebBeans-trunk-jdk8-arm', 'OpenWebBeans_1.1.x', 'org.apache.kato', 'org.apache.kato.eclipse', 'org.apache.kato.rc1', 'PDFBox 1.8.x', 'PDFBox 2.0.x', 'PDFBox-trunk', 'Phoenix-3.0-hadoop1', 'Phoenix-4.3', 'Phoenix-4.4-HBase-0.98', 'Phoenix-4.4-HBase-1.0', 'Phoenix-4.4-HBase-1.1', 'Phoenix-4.5-HBase-0.98', 'Phoenix-4.5-HBase-1.0', 'Phoenix-4.5-HBase-1.1', 'Phoenix-4.x-HBase-0.98', 'Phoenix-4.x-HBase-1.0', 'Phoenix-4.x-HBase-1.1', 'Phoenix-master', 'PHP Gateway for Airavata', 'Pig on Spark Precommit Test', 'Pig-0.9', 'Pig-spark', 'Pig-trunk', 'Pig-trunk-commit', 'Pipeline Test', 'Pivot-maintenance', 'Pivot-maintenance on Java 7', 'Pivot-trunk', 'Pivot-trunk on Java 7', 'Pivot-trunk on Java 8 (jdk)', 'Pivot-trunk on Java 8 (Open JDK)', 'POI', 'POI-JDK-IBM', 'POI-JDK8', 'POI-Maven', 'POI-OpenJDK', 'POI-with-old-Xerces', 'portals-applications-dbbrowser-trunk', 'portals-applications-demo-trunk', 'portals-applications-gems-trunk', 'portals-applications-logging-trunk', 'portals-applications-pom-trunk', 'portals-applications-rss-trunk', 'portals-applications-webcontent-trunk', 'portals-bridges-common-trunk', 'portals-bridges-jsf-trunk', 'portals-bridges-pom-trunk', 'portals-bridges-script-trunk', 'portals-bridges-velocity-trunk', 'portals-jetspeed-2-applications-j2-admin-2.2.3', 'portals-jetspeed-2-applications-j2-admin-trunk', 'portals-jetspeed-2-portal-2.2.3', 'portals-jetspeed-2-portal-2.3.0', 'portals-jetspeed-2-portal-223', 'portals-jetspeed-2-portal-trunk', 'portals-pluto-2.0.x', 'portals-pluto-trunk', 'portals-pom-trunk', 'portlet-bridge-api-documentation-1.0', 'portlet-bridge-api-documentation-2.0', 'portlet-bridge-core-1.0', 'portlet-bridge-core-2.0', 'portlet-bridge-core-3.0', 'portlet-bridge-master-pom', 'postage-trunk', 'postage-trunk-m2', 'PreCommit-ACCUMULO-Build', 'PreCommit-Admin', 'PreCommit-ATLAS-Build', 'PreCommit-Falcon-Build', 'PreCommit-FLUME-Build', 'PreCommit-GIRAPH-Build', 'PreCommit-gora-trunk', 'PreCommit-HADOOP-Build', 'Precommit-HADOOP-OSX', 'PreCommit-HBASE-Build', 'PreCommit-HBASE-Build-deprecated', 'PreCommit-HDFS-Build', 'PreCommit-HIVE-Build', 'PreCommit-Lens-Build', 'PreCommit-MAPREDUCE-Build', 'PreCommit-NIFI-Build', 'PreCommit-PHOENIX-Build', 'PreCommit-PIG-Build', 'PreCommit-PROVISIONR-Build', 'PreCommit-RANGER-Build', 'PreCommit-SENTRY-Build', 'PreCommit-SENTRY-Build-mvn', 'PreCommit-SENTRY-Build-On-Demand', 'PreCommit-SQOOP-Build', 'PreCommit-TAJO-Build', 'PreCommit-TEZ-Build', 'PreCommit-YARN-Build', 'PreCommit-YETUS-Build', 'PreCommit-ZOOKEEPER-Build', 'protoc-version', 'protocols-trunk', 'protocols-trunk-site', 'provisionr-master', 'prune-orphaned-processes', 'python-test', 'Qpid-cpp-freebsd', 'Qpid-cpp-trunk-test', 'Qpid-Java-Artefact-Release', 'Qpid-Java-Artefact-Release-6.0.x', 'Qpid-Java-Checks', 'Qpid-Java-Checks-6.0.x', 'Qpid-Java-Cpp-Test', 'Qpid-Java-Java-BDB-6.0.x-TestMatrix', 'Qpid-Java-Java-BDB-TestMatrix', 'Qpid-Java-Java-MMS-6.0.x-TestMatrix', 'Qpid-Java-Java-MMS-TestMatrix', 'Qpid-Java-Java-Test-IBMJDK1.7', 'Qpid-Java-Java-Test-JDK1.8', 'Qpid-Java-Java-Test-Windows', 'Qpid-Java-JoramJMSTest', 'Qpid-Java-QMF', 'Qpid-JMS-Checks', 'Qpid-JMS-Deploy', 'Qpid-JMS-Test-JDK7', 'Qpid-JMS-Test-JDK7-Windows', 'Qpid-JMS-Test-JDK8', 'Qpid-proton-c', 'Qpid-proton-j', 'Qpid-proton-j-Checks', 'Qpid-proton-j-Deploy', 'Qpid-Python-Java-Test', 'Qpid-ZZZ-proton-j-windows', 'Qpid-ZZZ-Python-Cpp-Test', 'Qpid-ZZZ-windows-slave-test', 'Rampart', 'rampart-1.6', 'rampart-1.7', 'ranger-5dotX-master-snapshot-publish', 'ranger-master-mvn-build', 'ranger-master-snapshot-publish', 'rave-master-pom-trunk', 'rave-project-trunk', 'Red5-client', 'red5-installer', 'Red5-io', 'red5-parent', 'Red5-server', 'Red5-server-common', 'Red5-service', 'redback-components', 'redback-core', 'redback-core-pr-builder', 'REEF-pull-request-NET', 'Reef-pull-request-ubuntu', 'Reef-pull-request-windows', 'Reef-pull-request-windows2', 'REEF-pull-request-windows3', 'replay_extcdi117', 'river-2.2-qa-jdk7', 'river-2.2-qa-win', 'river-ConstraintTests', 'River-dev-jdk7', 'River-dev-jdk8', 'river-discoveryTests', 'river-EventMailboxServiceTests', 'river-IIOPTests', 'river-J9-JavaSpaceTests', 'river-JavaSpacesTests', 'river-JERITests', 'river-JoinManagerTests', 'river-JRMPactivationTests', 'River-ldj-jdk7', 'river-LeaseTests', 'river-LookupServiceTests', 'river-OpenJDK-JavaSpaceTests', 'river-PolicySecurityLoaderUrlTests', 'river-qa-refactor-arm', 'river-qa-refactor-j9-please-dont-abort-if-under-20hours', 'River-qa-refactor-jtreg', 'River-QA-tree', 'river-ReliabilityThreadTests', 'river-ServiceDiscoveryManagerTests', 'river-StartConfigIoIdExport', 'river-TransactionTests', 'River-trunk', 'River-trunk-jdk7', 'River-verify', 'River-verify-generics', 'Roller', 'Samza - testpach', 'Samza-0.7.0', 'samza-build-post-commit', 'samza-freestyle-build', 'samza-trial-build', 'santuario-java-1.5.x-fixes', 'santuario-java-trunk', 'Sentry-jdk-1.7', 'ServiceMix-5.5.x', 'ServiceMix-5.x', 'ServiceMix-6.0.x', 'ServiceMix-6.x', 'ServiceMix-Bundles', 'ServiceMix-Docs', 'ServiceMix-master', 'ServiceMix-Plugins', 'ServiceMix-POM', 'ServiceMix-pr', 'ServiceMix-Specs', 'Shindig', 'Shindig 2.5.0-updateX (JDK 1.7)', 'Shindig Assembly', 'Shindig Trunk (IBM 1.6)', 'Shindig Trunk (JDK 1.5)', 'Shindig Trunk (JDK 1.6)', 'Shindig Trunk (JDK 1.7)', 'Shiro', 'Shiro-1.2.x', 'sirona', 'sirona-1.7', 'sirona-1.8', 'sirona-windows', 'sis-dev', 'sis-trunk', 'Slave-Validation-Job', 'Slider-develop', 'slider-develop-windows', 'sling-contrib-1.7', 'sling-crankstart', 'sling-ide', 'sling-oak-it-1.7', 'sling-samples-1.7', 'sling-tooling-trunk-1.7', 'sling-trunk-1.7', 'sling-trunk-1.8', 'sling-trunk-gitbranch-1.7', 'Solaris1', 'Solaris2', 'Solr-Artifacts-5.5', 'Solr-Artifacts-6.0', 'Solr-Artifacts-6.x', 'Solr-Artifacts-master', 'SpamAssassin-trunk', 'SpamAssassin-trunk-FreeBSD', 'Sqoop-hadoop100', 'Sqoop-hadoop20', 'Sqoop-hadoop200', 'Sqoop-hadoop23', 'Sqoop2', 'Sqoop2-cobertura', 'stanbol-0.12', 'stanbol-trunk', 'stanbol-trunk-openjdk-8', 'stdcxx-4.2.2-12d-ubuntu', 'stdcxx-4.2.2-12S-freebsd', 'stdcxx-4.2.2-15D-windows', 'stdcxx-4.2.2-15s-solaris', 'Storm', 'storm-master-build', 'Stratos-41x-Commit-Build', 'Stratos-41x-Nightly-Build', 'Stratos-Master-Commit-Build', 'Stratos-Master-Nightly-Build', 'Streams Examples', 'Streams Master', 'Streams Project Site', 'Streams Trunk', 'struts-annotations', 'Struts-examples-JDK8-master', 'Struts-JDK6-support-2.3', 'Struts-JDK7-master', 'Struts-JDK7-pull-request', 'Struts-JDK8-master', 'Struts-JDK9-master', 'struts-master', 'subversion-1.6.x-solaris', 'subversion-1.6.x-ubuntu', 'subversion-doxygen', 'subversion-javadoc', 'subversion-trunk-solaris', 'subversion-trunk-ubuntu', 'subversion-trunk-windows', 'Synapse - Trunk', 'Syncope-1_0_X', 'Syncope-1_1_X', 'Syncope-1_2_X', 'Syncope-master', 'Syncope-trunk (Windows)', 'taglib-extended', 'taglib-parent', 'taglib-rdc', 'taglib-standard', 'Tajo-0.11.4-build', 'Tajo-0.11.4-nightly', 'Tajo-block_iteration-branch-build', 'Tajo-master-build', 'Tajo-master-CODEGEN-build', 'Tajo-master-nightly', 'Tamaya-Javadoc-Master', 'Tamaya-Master-branch', 'Tamaya-Site-Master', 'tapestry-4.1-trunk', 'tapestry-5.1-freestyle', 'tapestry-trunk-freestyle', 'Test', 'Test build', 'test-cpus', 'test-ulimit', 'TestBuilds', 'Tez-0.5', 'Tez-Build', 'Tez-Build-branch-0.6', 'Tez-Build-branch-0.7', 'Tez-Build-branch-0.8', 'Tez-Build-branch-tez-2003', 'Tez-Build-branch-TEZ-2980', 'Tez-Build-Hadoop-2.2', 'Tez-Build-Hadoop-2.4', 'Tez-Build-Java8', 'Thrift', 'Thrift-precommit', 'tika-2.x', 'tika-2.x-windows', 'Tika-trunk', 'tika-trunk-jdk1.6', 'tika-trunk-jdk1.7', 'tika-trunk-jdk1.8', 'Tiles-AutoTag', 'Tiles-AutoTag-Java6', 'Tiles-Framework', 'Tiles-Framework-3.0.x', 'Tiles-Framework-3.0.x-Java6', 'Tiles-Framework-Java6', 'Tiles-Request', 'Tiles-Request-1.0.x', 'Tiles-Request-1.0.x-Java6', 'Tiles-Request-Java6', 'tinkerpop-master', 'Tobago 1.0.x', 'Tobago 1.0.x (deploy)', 'Tobago 1.5.x', 'Tobago 1.5.x (deploy)', 'Tobago 2.0.x', 'Tobago 2.0.x (deploy)', 'Tobago 3.0.x', 'Tobago 3.0.x (deploy)', 'Tobago 3.0.x integration-test', 'Tomcat-7.x', 'Tomcat-7.x-Maven', 'TomcatMavenPlugin-mvn2.x', 'TomcatMavenPlugin-mvn3.x', 'TomcatMavenPlugin-mvn3.x-windows', 'torque4-test-project-derby', 'torque4-test-project-hsqldb', 'Torque4-trunk', 'traffic-trunk', 'Trinidad Core 1.0.x (sanity)', 'Trinidad Core 1.2.x (sanity)', 'Trinidad Core 2.0.x (sanity)', 'Trinidad Core 2.0.x (snapshot)', 'Trinidad Core Trunk (sanity)', 'Trinidad Core Trunk (snapshot)', 'Trinidad Plugins 1.2.x (snapshot)', 'Trinidad Plugins 2.0.x (snapshot)', 'Trinidad Site', 'Turbine Core', 'Turbine Fulcrum', 'Tuscany-1x', 'Tuscany-2x', 'Tuscany-2x-all', 'Tuscany-2x-compliance', 'Tuscany-2x-deploy', 'Tuscany-2x-distributions', 'Tuscany-DAS', 'Tuscany-quick-all-distro', 'Tuscany-SDO', 'UIMA Addons', 'UIMA-AS', 'UIMA-DUCC', 'UIMA-Ruta', 'UIMA-SDK', 'UIMA-uima-parent-pom', 'UIMA-uimaFIT', 'UIMA-uimaFIT_2_1_x', 'UIMA-uimaFIT_java8', 'UIMAJ-SDK_java8', 'unomi-master', 'Usergrid-master', 'usergrid-portal-master', 'usergrid-stack', 'vinod-docker', 'vinod-docker-params', 'vinod-test', 'vysper-trunk-harmony1.5-ubuntu', 'vysper-trunk-jdk1.5-ibm-ubuntu', 'vysper-trunk-jdk1.5-solaris', 'vysper-trunk-jdk1.5-ubuntu', 'vysper-trunk-jdk1.6-ibm-ubuntu', 'vysper-trunk-jdk1.6-solaris', 'vysper-trunk-jdk1.6-ubuntu', 'vysper-trunk-jdk1.6-windows', 'wave-all_tests', 'wave-artifacts', 'wave-small_tests', 'Whirr-Solaris', 'Whirr-Ubuntu', 'Windows1', 'Wink-Trunk-JDK1.5', 'Wink-Trunk-JDK1.5-itests', 'Wink-Trunk-JDK1.6', 'Wink-Trunk-JDK1.6-itests', 'Wink-Trunk-JDK1.7', 'Wink2-Trunk-JDK1.6', 'woden-trunk', 'ws-parent', 'wss4j-2.0', 'wss4j-2.1', 'wss4j-trunk', 'xmlgraphics-batik-maven', 'xmlgraphics-batik-maven-mac', 'xmlgraphics-commons', 'xmlgraphics-commons-maven', 'xmlgraphics-fop', 'xmlgraphics-fop-ant', 'xmlgraphics-fop-pdf-images', 'xmlgraphics-test', 'xmlschema-1.4-branch-jdk15', 'xmlschema-trunk', 'xmlschema-trunk-eclipse-support', 'Yetus', 'yetus-qbt', 'Zest(JavaEdition)-develop-java8-check', 'Zest(JavaEdition)-develop-java8-checkDists', 'Zest(JavaEdition)-support-2.1-java7-check', 'Zest(JavaEdition)-support-2.1-java7-checkDists', 'ZooKeeper-trunk', 'ZooKeeper-trunk-jdk8', 'ZooKeeper-trunk-openjdk7', 'ZooKeeper-trunk-solaris', 'ZooKeeper-trunk-WinVS2008', 'ZooKeeper-trunk-WinVS2008_java', 'ZooKeeper_branch33', 'ZooKeeper_branch33_solaris', 'ZooKeeper_branch34', 'ZooKeeper_branch34-WinVS2008_java', 'ZooKeeper_branch34_jdk7', 'ZooKeeper_branch34_jdk8', 'ZooKeeper_branch34_openjdk7', 'ZooKeeper_branch34_solaris', 'ZooKeeper_branch35_jdk7', 'ZooKeeper_branch35_jdk8', 'ZooKeeper_branch35_openjdk7', 'ZooKeeper_branch35_solaris']\n"
     ]
    }
   ],
   "source": [
    "allJobs = jenJob.jobs.keys()\n",
    "print(\"We will be evaluating build details of these projects hosted at Apache software foundation.\")\n",
    "print(allJobs)"
   ]
  },
  {
   "cell_type": "code",
   "execution_count": null,
   "metadata": {
    "collapsed": true
   },
   "outputs": [],
   "source": []
  }
 ],
 "metadata": {
  "kernelspec": {
   "display_name": "Python 2",
   "language": "python",
   "name": "python2"
  },
  "language_info": {
   "codemirror_mode": {
    "name": "ipython",
    "version": 2
   },
   "file_extension": ".py",
   "mimetype": "text/x-python",
   "name": "python",
   "nbconvert_exporter": "python",
   "pygments_lexer": "ipython2",
   "version": "2.7.10"
  }
 },
 "nbformat": 4,
 "nbformat_minor": 0
}
