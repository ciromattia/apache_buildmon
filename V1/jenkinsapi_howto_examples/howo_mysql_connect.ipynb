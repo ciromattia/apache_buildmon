{
 "cells": [
  {
   "cell_type": "code",
   "execution_count": 5,
   "metadata": {
    "collapsed": false
   },
   "outputs": [
    {
     "name": "stdout",
     "output_type": "stream",
     "text": [
      "Data from row 1 is : ('City',)\n",
      "Data from row 2 is : ('Country',)\n",
      "Data from row 3 is : ('CountryLanguage',)\n"
     ]
    }
   ],
   "source": [
    "import MySQLdb\n",
    "import time\n",
    "\n",
    "dbConn = MySQLdb.connect(\"pysql.c242rwjvadxq.us-west-2.rds.amazonaws.com\", \n",
    "                         \"pysql\",\"pysql1729#\",\"world\")\n",
    "\n",
    "sqlConn = dbConn.cursor()\n",
    "\n",
    "#username = \"Allen Solly\"\n",
    "# tweet = \"For the man in you\"\n",
    "\n",
    "\"\"\" sqlConn.execute(\"INSERT INTO tweela (time, username, tweet) VALUES(%s, %s, %s)\",\n",
    "                (time.time(), username, tweet)) \"\"\"\n",
    "\n",
    "sqlConn.execute(\"SHOW TABLES\")\n",
    "\n",
    "dataDump = sqlConn.fetchall()\n",
    "\n",
    "counter = 1\n",
    "for i in dataDump:\n",
    "    ''' works with Python 3.x\n",
    "    print(i)\n",
    "    counter=counter+1 '''\n",
    "    \"\"\" Compatible with Python 2.7\"\"\"\n",
    "    print(\"Data from row {0} is : {1}\".format(counter, i))\n",
    "    counter=counter+1"
   ]
  },
  {
   "cell_type": "code",
   "execution_count": null,
   "metadata": {
    "collapsed": true
   },
   "outputs": [],
   "source": []
  }
 ],
 "metadata": {
  "kernelspec": {
   "display_name": "Python 2",
   "language": "python",
   "name": "python2"
  },
  "language_info": {
   "codemirror_mode": {
    "name": "ipython",
    "version": 2
   },
   "file_extension": ".py",
   "mimetype": "text/x-python",
   "name": "python",
   "nbconvert_exporter": "python",
   "pygments_lexer": "ipython2",
   "version": "2.7.11"
  }
 },
 "nbformat": 4,
 "nbformat_minor": 0
}
