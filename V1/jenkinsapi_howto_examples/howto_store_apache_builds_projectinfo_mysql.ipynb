{
 "cells": [
  {
   "cell_type": "code",
   "execution_count": 22,
   "metadata": {
    "collapsed": false
   },
   "outputs": [
    {
     "name": "stdout",
     "output_type": "stream",
     "text": [
      "(('ActiveMQ-Artemis-PR-Build', 'https://builds.apache.org/job/ActiveMQ-Artemis-PR-Build/'), ('ActiveMQ-Java7', 'https://builds.apache.org/job/ActiveMQ-Java7/'), ('ActiveMQ-Java7-All-UnitTests', 'https://builds.apache.org/job/ActiveMQ-Java7-All-UnitTests/'), ('ActiveMQ-Java8', 'https://builds.apache.org/job/ActiveMQ-Java8/'), ('ActiveMQ-LevelDB-Store', 'https://builds.apache.org/job/ActiveMQ-LevelDB-Store/'), ('ActiveMQ-openwire', 'https://builds.apache.org/job/ActiveMQ-openwire/'), ('ActiveMQ-PR-Build', 'https://builds.apache.org/job/ActiveMQ-PR-Build/'), ('ActiveMQ-SysTest-Trunk', 'https://builds.apache.org/job/ActiveMQ-SysTest-Trunk/'), ('ActiveMQ-Trunk-Deploy', 'https://builds.apache.org/job/ActiveMQ-Trunk-Deploy/'), ('Airavata', 'https://builds.apache.org/job/Airavata/'), ('Allura', 'https://builds.apache.org/job/Allura/'), ('Allura-rat', 'https://builds.apache.org/job/Allura-rat/'), ('Ambari-branch-1.7.0', 'https://builds.apache.org/job/Ambari-branch-1.7.0/'), ('Ambari-branch-1.7.0-docker', 'https://builds.apache.org/job/Ambari-branch-1.7.0-docker/'), ('Ambari-branch-2.0.0', 'https://builds.apache.org/job/Ambari-branch-2.0.0/'), ('Ambari-branch-2.1', 'https://builds.apache.org/job/Ambari-branch-2.1/'), ('Ambari-branch-2.2', 'https://builds.apache.org/job/Ambari-branch-2.2/'), ('Ambari-trunk-Commit', 'https://builds.apache.org/job/Ambari-trunk-Commit/'), ('Ambari-trunk-Commit-debug', 'https://builds.apache.org/job/Ambari-trunk-Commit-debug/'), ('Ambari-trunk-Commit-docker', 'https://builds.apache.org/job/Ambari-trunk-Commit-docker/'))\n"
     ]
    }
   ],
   "source": [
    "from jenkinsapi import api\n",
    "import MySQLdb\n",
    "from collections import OrderedDict\n",
    "\n",
    "\n",
    "global jenkinsUrl\n",
    "global projectInfo\n",
    "\n",
    "jenkinsUrl = 'https://builds.apache.org/api/python'\n",
    "projectInfo = OrderedDict()\n",
    "\n",
    "\n",
    "def jenkinsBase(url):\n",
    "    \n",
    "    \"\"\"\n",
    "    param  : jenkins url\n",
    "    Prepare the Python API call to jenkins url\n",
    "    return : pass the newly created object \n",
    "    \n",
    "    nOTE : anaonymous access works for https://builds.apache.org\n",
    "    TODO : Howto code for authentication using APItoken with Python >3.x \n",
    "    \"\"\"\n",
    "    jobInfo = api.Jenkins(url)\n",
    "    \n",
    "    return jobInfo\n",
    "\n",
    "\n",
    "def mysqlConnect():\n",
    "    \n",
    "    \"\"\"\n",
    "    Connect to mysql database using the given data\n",
    "    param : none\n",
    "    return : dbconnector and it's cursor objects\n",
    "    \"\"\"\n",
    "    \n",
    "    mysqlHost = \"pysql.c242rwjvadxq.us-west-2.rds.amazonaws.com\"\n",
    "    mysqlUser = \"pysql\"\n",
    "    mysqlPass = \"pysql1729#\"\n",
    "    mysqlDB   = \"apache_buildmon\"\n",
    "    \n",
    "    dbConn = MySQLdb.connect(mysqlHost, mysqlUser, mysqlPass, mysqlDB)\n",
    "    \n",
    "    cursor = dbConn.cursor()\n",
    "    \n",
    "    return dbConn,cursor\n",
    "\n",
    "\n",
    "def updateProjectIndB(jobInfo, dbConn, cursor):\n",
    "    \n",
    "    \"\"\"\n",
    "    param : jobinfo object to extract project details, mysql connection plugs\n",
    "    Retrieve project name and URL using get_jobs_info() method of jenkinsapi.\n",
    "    Save the data in an ordered dict, and also commit in mysql dB.\n",
    "        \n",
    "    return : none\n",
    "    \"\"\"\n",
    "    \n",
    "    for info in jobInfo.get_jobs_info():\n",
    "        # print info[1], info[0]\n",
    "        projectInfo.update({info[1] : info[0]})\n",
    "        cursor.execute(\"\"\"INSERT INTO Project (name, url) VALUES(%s, %s)\"\"\",\n",
    "                        (info[1], info[0]))\n",
    "        dbConn.commit()\n",
    "    \n",
    "    cursor.execute(\"SELECT * FROM Project LIMIT 15,20\")\n",
    "    \n",
    "    projectData = cursor.fetchall()\n",
    "    print(projectData)    \n",
    "       \n",
    "    return ''\n",
    "\n",
    "\n",
    "def main():\n",
    "    \"\"\"\n",
    "    Main function to invoke connection requests to services, like, jenkins, mysql database.\n",
    "    Use the returned objects to gather build details and push to database.\n",
    "    \"\"\"\n",
    "    \n",
    "    jobInfo = jenkinsBase(jenkinsUrl)\n",
    "    dbConn,cursor = mysqlConnect()\n",
    "    updateProjectIndB(jobInfo, dbConn, cursor)\n",
    "    \n",
    "if __name__ == '__main__':\n",
    "    main()"
   ]
  },
  {
   "cell_type": "code",
   "execution_count": 17,
   "metadata": {
    "collapsed": false
   },
   "outputs": [
    {
     "ename": "NameError",
     "evalue": "name 'projectData' is not defined",
     "output_type": "error",
     "traceback": [
      "\u001b[1;31m---------------------------------------------------------------------------\u001b[0m",
      "\u001b[1;31mNameError\u001b[0m                                 Traceback (most recent call last)",
      "\u001b[1;32m<ipython-input-17-70276e335e6e>\u001b[0m in \u001b[0;36m<module>\u001b[1;34m()\u001b[0m\n\u001b[1;32m----> 1\u001b[1;33m \u001b[1;32mprint\u001b[0m \u001b[0mtype\u001b[0m\u001b[1;33m(\u001b[0m\u001b[0mprojectData\u001b[0m\u001b[1;33m)\u001b[0m\u001b[1;33m\u001b[0m\u001b[0m\n\u001b[0m",
      "\u001b[1;31mNameError\u001b[0m: name 'projectData' is not defined"
     ]
    }
   ],
   "source": [
    "print type(projectData)"
   ]
  },
  {
   "cell_type": "code",
   "execution_count": null,
   "metadata": {
    "collapsed": true
   },
   "outputs": [],
   "source": []
  }
 ],
 "metadata": {
  "kernelspec": {
   "display_name": "Python 2",
   "language": "python",
   "name": "python2"
  },
  "language_info": {
   "codemirror_mode": {
    "name": "ipython",
    "version": 2
   },
   "file_extension": ".py",
   "mimetype": "text/x-python",
   "name": "python",
   "nbconvert_exporter": "python",
   "pygments_lexer": "ipython2",
   "version": "2.7.11"
  }
 },
 "nbformat": 4,
 "nbformat_minor": 0
}
